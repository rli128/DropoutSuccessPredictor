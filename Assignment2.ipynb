{
  "cells": [
    {
      "cell_type": "markdown",
      "metadata": {
        "id": "3CvGHplJlKOu"
      },
      "source": [
        "# Exploratory Analysis and Fairness Metrics\n",
        "\n",
        "## 1. Context\n",
        "\n",
        "**Dataset:** Predict Students' Dropout and Academic Success\n",
        "\n",
        "Our dataset was created by a higher education institution made from several disjoint datasets to predict a student's dropout and academic success. Each instance is a unique student and the information was presumably gathered from when they applied to the institution. The dataset was created to identify students at risk of dropping out in order to give them the support they need to succeed.\n",
        "\n",
        "\n"
      ]
    },
    {
      "cell_type": "code",
      "execution_count": 614,
      "metadata": {
        "id": "BsIcY78HpI-2"
      },
      "outputs": [],
      "source": [
        "import pandas as pd\n",
        "from sklearn.model_selection import train_test_split\n",
        "from sklearn.linear_model import LogisticRegression\n",
        "from sklearn.metrics import classification_report, confusion_matrix\n",
        "from sklearn.preprocessing import LabelEncoder\n",
        "import seaborn as sns\n",
        "import matplotlib.pyplot as plt\n",
        "import numpy as np\n",
        "\n",
        "import pandas as pd\n",
        "df = pd.read_csv('data.csv', delimiter=';')\n",
        "df = df[df['Target'] != 'Enrolled']\n",
        "columns_to_keep = [\n",
        "    'Gender',\n",
        "    'Target',\n",
        "    'Marital status',\n",
        "    'Application mode',\n",
        "    'Previous qualification',\n",
        "    'Previous qualification (grade)',\n",
        "    \"Mother's qualification\",\n",
        "    \"Father's qualification\",\n",
        "    'Admission grade',\n",
        "    'Scholarship holder',\n",
        "    'Age at enrollment',\n",
        "    'Curricular units 1st sem (grade)',\n",
        "    'Curricular units 2nd sem (grade)',\n",
        "    'Tuition fees up to date'\n",
        "]\n",
        "\n",
        "df = df[columns_to_keep]\n",
        "\n",
        "label = 'Target'\n",
        "sensitive_attr = 'Gender'"
      ]
    },
    {
      "cell_type": "markdown",
      "metadata": {},
      "source": [
        "Sensitive Attribute: Gender\n",
        "1: male, 0: Female"
      ]
    },
    {
      "cell_type": "markdown",
      "metadata": {
        "id": "lxxLWjQ8DIuH"
      },
      "source": [
        "**Encode the target:**\n",
        "\n",
        "Graduate = 1 \\\\\n",
        "Dropout = 0"
      ]
    },
    {
      "cell_type": "code",
      "execution_count": 615,
      "metadata": {
        "id": "TuURjB_oD6p5"
      },
      "outputs": [],
      "source": [
        "le_target = LabelEncoder()\n",
        "\n",
        "df['Target_encoded'] = le_target.fit_transform(df['Target'])\n",
        "df.drop('Target', axis=1, inplace=True)"
      ]
    },
    {
      "cell_type": "markdown",
      "metadata": {
        "id": "ivVy6llWgarm"
      },
      "source": [
        "## 2. Code: Accuracy and Fairness Metrics"
      ]
    },
    {
      "cell_type": "markdown",
      "metadata": {
        "id": "GWGBjFiM0itv"
      },
      "source": [
        "**Train the Baseline:**"
      ]
    },
    {
      "cell_type": "code",
      "execution_count": 616,
      "metadata": {
        "colab": {
          "base_uri": "https://localhost:8080/"
        },
        "id": "kpivmsvN0mWa",
        "outputId": "5734796d-7e33-4d4d-9777-04c65bf93132"
      },
      "outputs": [
        {
          "name": "stdout",
          "output_type": "stream",
          "text": [
            "Accuracy: 0.844\n"
          ]
        }
      ],
      "source": [
        "X = df.drop('Target_encoded', axis=1)\n",
        "y = df['Target_encoded']\n",
        "\n",
        "X_train, X_test, y_train, y_test = train_test_split(X, y, test_size=0.3, random_state=42)\n",
        "\n",
        "model = LogisticRegression(max_iter=2000)\n",
        "model.fit(X_train, y_train)\n",
        "y_pred = model.predict(X_test)\n",
        "\n",
        "accuracy = model.score(X_test, y_test)\n",
        "print(f\"Accuracy: {accuracy:.3f}\")"
      ]
    },
    {
      "cell_type": "markdown",
      "metadata": {
        "id": "rnyL1UOKgfLf"
      },
      "source": [
        "**Fairness Metrics Reported:**"
      ]
    },
    {
      "cell_type": "markdown",
      "metadata": {
        "id": "QlEaaynV3zDa"
      },
      "source": [
        "- **Equal Opportunity**\n",
        "   \n",
        "   To calculate our Equal Opportunity Disparity, we need to find TPRs for each gender.\n"
      ]
    },
    {
      "cell_type": "code",
      "execution_count": 617,
      "metadata": {
        "colab": {
          "base_uri": "https://localhost:8080/"
        },
        "id": "H4ybIfI5HxMU",
        "outputId": "a0499a77-13ae-4627-f61c-1be202727023"
      },
      "outputs": [
        {
          "name": "stdout",
          "output_type": "stream",
          "text": [
            "True Positive Rates by Gender:\n",
            "0: 0.704\n",
            "1: 0.457\n",
            "Equal Opportunity Disparity: 0.247\n"
          ]
        }
      ],
      "source": [
        "df_eop = X_test.copy()\n",
        "df_eop['y_test'] = y_test\n",
        "df_eop['y_pred'] = y_pred\n",
        "\n",
        "tpr_genders = {}\n",
        "for gender in df_eop['Gender'].unique():\n",
        "    df_gender = df_eop['Gender'] == gender\n",
        "    tpr = df_eop[df_gender & (df_eop['y_test'] == 1)]['y_test'].count() / df_eop[df_gender]['y_test'].count()\n",
        "    tpr_genders[gender] = tpr\n",
        "\n",
        "print(\"True Positive Rates by Gender:\")\n",
        "for gender, tpr in tpr_genders.items():\n",
        "    print(f\"{gender}: {tpr:.3f}\")\n",
        "\n",
        "tpr_vals = list(tpr_genders.values())\n",
        "eo_disparity = max(tpr_vals) - min(tpr_vals)\n",
        "\n",
        "print(f\"Equal Opportunity Disparity: {eo_disparity:.3f}\")"
      ]
    },
    {
      "cell_type": "markdown",
      "metadata": {
        "id": "hCClvHVMl700"
      },
      "source": [
        "We find that Female students have a significantly higher TPR than male students, meaning that the model is better at predicting a positive outcome (Graduation), for female students compared to males.\n",
        "\n"
      ]
    },
    {
      "cell_type": "markdown",
      "metadata": {
        "id": "jeL_eyT2oxUp"
      },
      "source": [
        "- **Equalized Odds**"
      ]
    },
    {
      "cell_type": "code",
      "execution_count": 618,
      "metadata": {
        "colab": {
          "base_uri": "https://localhost:8080/"
        },
        "id": "d3NhCeJO3xWa",
        "outputId": "55336f36-fc39-4442-8988-f7ad98e0f4da"
      },
      "outputs": [
        {
          "name": "stdout",
          "output_type": "stream",
          "text": [
            "Equalized Odds Metrics by Gender:\n",
            "0: TPR = 0.972, FPR = 0.349\n",
            "1: TPR = 0.888, FPR = 0.312\n",
            "Equalized Odds Disparities: TPR Disparity = 0.084, FPR Disparity = 0.037\n"
          ]
        }
      ],
      "source": [
        "df_eod = X_test.copy()\n",
        "df_eod['y_true'] = y_test\n",
        "df_eod['y_pred'] = y_pred\n",
        "\n",
        "tpr_fpr_genders = {}\n",
        "\n",
        "for gender in df_eod['Gender'].unique():\n",
        "    mask = df_eod['Gender'] == gender\n",
        "    y_true_group = df_eod[mask]['y_true']\n",
        "    y_pred_group = df_eod[mask]['y_pred']\n",
        "\n",
        "    tn, fp, fn, tp = confusion_matrix(y_true_group, y_pred_group).ravel()\n",
        "\n",
        "    tpr = tp / (tp + fn) if (tp + fn) > 0 else 0\n",
        "    fpr = fp / (fp + tn) if (fp + tn) > 0 else 0\n",
        "\n",
        "    tpr_fpr_genders[gender] = {'TPR': tpr, 'FPR': fpr}\n",
        "\n",
        "print(\"Equalized Odds Metrics by Gender:\")\n",
        "for gender, metrics in tpr_fpr_genders.items():\n",
        "    print(f\"{gender}: TPR = {metrics['TPR']:.3f}, FPR = {metrics['FPR']:.3f}\")\n",
        "\n",
        "tpr_values = [metrics['TPR'] for metrics in tpr_fpr_genders.values()]\n",
        "fpr_values = [metrics['FPR'] for metrics in tpr_fpr_genders.values()]\n",
        "tpr_disparity = max(tpr_values) - min(tpr_values)\n",
        "fpr_disparity = max(fpr_values) - min(fpr_values)\n",
        "\n",
        "print(f\"Equalized Odds Disparities: TPR Disparity = {tpr_disparity:.3f}, FPR Disparity = {fpr_disparity:.3f}\")"
      ]
    },
    {
      "cell_type": "markdown",
      "metadata": {
        "id": "ttP6dicb8QTi"
      },
      "source": [
        "Calculating our Equalized Odds Disparity gives us an interesting result. When comparing both TPRs and FPRs from both genders, the classifier performs relatively fairly. Since the disparity here is significantly lower, we should focus more on balancing Equal Opportunity."
      ]
    },
    {
      "cell_type": "markdown",
      "metadata": {
        "id": "oC7R5E2SxTxK"
      },
      "source": [
        "## 3. Discussion: Relevant Fairness Metrics\n"
      ]
    },
    {
      "cell_type": "markdown",
      "metadata": {
        "id": "RZAwLHtExxAf"
      },
      "source": [
        "The fairness metrics we use for this model are **Equal Opportunity** and **Equalized Odds**. We use Equal Opportunity to ensure that students who are actually at risk of dropping out are identified at equal rates across different genders. We also want to ensure that TPRs and FPRs for both male and female students are similar so we also use Equalized Odds. This is important because we can balance both intervention and over-penalization. We ignore other fairness metrics like Demographic Parity because Demographic Parity would likely artificially inflate or deflate dropout predictions, ignoring potentially important external factors. We don't use Accuracy Parity because it may focus on improving the performance of the classifier at the cost of some fairness."
      ]
    },
    {
      "cell_type": "markdown",
      "metadata": {},
      "source": [
        "## 4. Code: Unfairness in the Dataset"
      ]
    },
    {
      "cell_type": "code",
      "execution_count": 619,
      "metadata": {
        "id": "uDq4V6OP2ulU"
      },
      "outputs": [
        {
          "name": "stdout",
          "output_type": "stream",
          "text": [
            "Percentage of Female Students in dataset 0.656\n",
            "Percentage of Female Graduate 0.698\n",
            "Percentage of Male Graduate 0.439\n"
          ]
        }
      ],
      "source": [
        "df_male = df[df['Gender'] == 1]\n",
        "df_female = df[df['Gender'] == 0]\n",
        "\n",
        "print(f\"Percentage of Female Students in dataset {len(df_female)/len(df):.3f}\")\n",
        "\n",
        "female_graduate_count = (df_female['Target_encoded'] == 1).sum()\n",
        "\n",
        "print(f\"Percentage of Female Graduate {(female_graduate_count/len(df_female)):.3f}\")\n",
        "\n",
        "male_graduate_count = (df_male['Target_encoded'] == 1).sum()\n",
        "\n",
        "print(f\"Percentage of Male Graduate {(male_graduate_count/len(df_male)):.3f}\")\n"
      ]
    },
    {
      "cell_type": "markdown",
      "metadata": {},
      "source": [
        "We see that in the dataset that there are more females in the dataset than males however we do not think that it would make a big enough difference. However we did see that females had a way higher graduation rate than males do, (About 26% greater) and we think this may be the cause to the disparity with the two genders."
      ]
    },
    {
      "cell_type": "code",
      "execution_count": 620,
      "metadata": {},
      "outputs": [
        {
          "name": "stdout",
          "output_type": "stream",
          "text": [
            "Accuracy: 0.839\n"
          ]
        }
      ],
      "source": [
        "test_x_train_df = X_train\n",
        "test_y_train_df = y_train\n",
        "\n",
        "df_female_dropout = df[(df['Gender'] == 0) & (df['Target_encoded'] == 0)]\n",
        "num_new_samples = int(len(df_female_dropout) * 0.5)\n",
        "\n",
        "df_synthetic = df_female_dropout.sample(n=num_new_samples, replace=True).reset_index(drop=True)\n",
        "\n",
        "numeric_cols = df.select_dtypes(include=['int64', 'float64']).columns\n",
        "for col in numeric_cols:\n",
        "    df_synthetic[col] += np.random.normal(0, 0.1, size=len(df_synthetic))  \n",
        "\n",
        "X_synthetic = df_synthetic.drop(columns=['Target_encoded'])\n",
        "y_synthetic = df_synthetic['Target_encoded']\n",
        "\n",
        "test_x_train_df = pd.concat([test_x_train_df, X_synthetic], ignore_index=True)\n",
        "test_y_train_df = pd.concat([test_y_train_df, y_synthetic], ignore_index=True)\n",
        "\n",
        "new_model = LogisticRegression(max_iter=2000)\n",
        "new_model.fit(test_x_train_df, test_y_train_df)\n",
        "y_pred_new = new_model.predict(X_test)\n",
        "\n",
        "accuracy = new_model.score(X_test, y_test)\n",
        "print(f\"Accuracy: {accuracy:.3f}\")\n",
        "\n"
      ]
    },
    {
      "cell_type": "code",
      "execution_count": 621,
      "metadata": {},
      "outputs": [
        {
          "name": "stdout",
          "output_type": "stream",
          "text": [
            "True Positive Rates by Gender:\n",
            "0: 0.937\n",
            "1: 0.888\n",
            "Equal Opportunity Disparity: 0.048\n"
          ]
        }
      ],
      "source": [
        "df_eop = X_test.copy()\n",
        "df_eop['y_test'] = y_test\n",
        "df_eop['y_pred'] = y_pred_new\n",
        "\n",
        "tpr_genders = {}\n",
        "\n",
        "for gender in df_eop['Gender'].unique():\n",
        "    mask = df_eop['Gender'] == gender\n",
        "    y_true_group = df_eop[mask]['y_test']\n",
        "    y_pred_group = df_eop[mask]['y_pred']\n",
        "\n",
        "    tn, fp, fn, tp = confusion_matrix(y_true_group, y_pred_group).ravel()\n",
        "\n",
        "    tpr = tp / (tp + fn) if (tp + fn) > 0 else 0\n",
        "    tpr_genders[gender] = tpr\n",
        "\n",
        "print(\"True Positive Rates by Gender:\")\n",
        "for gender, tpr in tpr_genders.items():\n",
        "    print(f\"{gender}: {tpr:.3f}\")\n",
        "\n",
        "tpr_vals = list(tpr_genders.values())\n",
        "eo_disparity = max(tpr_vals) - min(tpr_vals)\n",
        "\n",
        "print(f\"Equal Opportunity Disparity: {eo_disparity:.3f}\")"
      ]
    },
    {
      "cell_type": "markdown",
      "metadata": {},
      "source": [
        "After adding synthetic data to increase the amount of female dropouts in the training set, our equal opportunity disparity got a lot smaller while keeping the accuracy relatively the same (Only <1% loss)."
      ]
    },
    {
      "cell_type": "markdown",
      "metadata": {},
      "source": [
        "## 5. Code: Different Modeling Choices"
      ]
    },
    {
      "cell_type": "markdown",
      "metadata": {},
      "source": [
        "We can add different weights to each gender to change our model to become more fair. Below we added more weight to male students when we train our model."
      ]
    },
    {
      "cell_type": "code",
      "execution_count": 622,
      "metadata": {},
      "outputs": [
        {
          "name": "stdout",
          "output_type": "stream",
          "text": [
            "Accuracy: 0.835\n"
          ]
        }
      ],
      "source": [
        "from sklearn.utils.class_weight import compute_class_weight\n",
        "\n",
        "custom_weights = {\n",
        "    0: 1.0,  # Females\n",
        "    1: 2.0   # Males\n",
        "}\n",
        "\n",
        "weighted_model = LogisticRegression(max_iter=2000, class_weight=custom_weights)\n",
        "weighted_model.fit(X_train, y_train)\n",
        "weighted_y_pred = weighted_model.predict(X_test)\n",
        "\n",
        "accuracy = weighted_model.score(X_test, y_test)\n",
        "print(f\"Accuracy: {accuracy:.3f}\")\n"
      ]
    },
    {
      "cell_type": "code",
      "execution_count": 623,
      "metadata": {},
      "outputs": [
        {
          "name": "stdout",
          "output_type": "stream",
          "text": [
            "True Positive Rates by Gender:\n",
            "0: 0.988\n",
            "1: 0.924\n",
            "Equal Opportunity Disparity: 0.065\n"
          ]
        }
      ],
      "source": [
        "df_eop = X_test.copy()\n",
        "df_eop['y_test'] = y_test\n",
        "df_eop['y_pred'] = weighted_y_pred\n",
        "\n",
        "tpr_genders = {}\n",
        "\n",
        "for gender in df_eop['Gender'].unique():\n",
        "    mask = df_eop['Gender'] == gender\n",
        "    y_true_group = df_eop[mask]['y_test']\n",
        "    y_pred_group = df_eop[mask]['y_pred']\n",
        "\n",
        "    tn, fp, fn, tp = confusion_matrix(y_true_group, y_pred_group).ravel()\n",
        "\n",
        "    tpr = tp / (tp + fn) if (tp + fn) > 0 else 0\n",
        "    tpr_genders[gender] = tpr\n",
        "\n",
        "print(\"True Positive Rates by Gender:\")\n",
        "for gender, tpr in tpr_genders.items():\n",
        "    print(f\"{gender}: {tpr:.3f}\")\n",
        "\n",
        "tpr_vals = list(tpr_genders.values())\n",
        "eo_disparity = max(tpr_vals) - min(tpr_vals)\n",
        "\n",
        "print(f\"Equal Opportunity Disparity: {eo_disparity:.3f}\")"
      ]
    },
    {
      "cell_type": "markdown",
      "metadata": {},
      "source": [
        "Here we can see while we lose accuracy by 1%, we can see that the fairness is greatly improved as the TPR are more similar."
      ]
    },
    {
      "cell_type": "markdown",
      "metadata": {},
      "source": [
        "## 6. Code: Post-processing"
      ]
    },
    {
      "cell_type": "markdown",
      "metadata": {},
      "source": [
        "We can change female predicted graduates to dropout so that we can offer support to more female students that may be struggling with their studies."
      ]
    },
    {
      "cell_type": "code",
      "execution_count": 624,
      "metadata": {},
      "outputs": [],
      "source": [
        "df_predictions = X_test.copy()\n",
        "df_predictions['y_pred'] = y_pred\n",
        "df_predictions['y_test'] = y_test\n",
        "\n",
        "female_predicted_graduates = df_predictions[\n",
        "    (df_predictions['Gender'] == 0) & (df_predictions['y_pred'] == 1)\n",
        "]"
      ]
    },
    {
      "cell_type": "code",
      "execution_count": 625,
      "metadata": {},
      "outputs": [
        {
          "name": "stdout",
          "output_type": "stream",
          "text": [
            "Modified Model Accuracy: 0.802\n"
          ]
        }
      ],
      "source": [
        "from sklearn.metrics import accuracy_score\n",
        "\n",
        "threshold = df_predictions['Admission grade'].quantile(0.15)\n",
        "\n",
        "low_grade_females = female_predicted_graduates[female_predicted_graduates['Admission grade'] < threshold]\n",
        "\n",
        "df_predictions.loc[low_grade_females.index, 'y_pred'] = 0\n",
        "\n",
        "accuracy_modified = accuracy_score(df_predictions['y_test'], df_predictions['y_pred'])\n",
        "\n",
        "print(f\"Modified Model Accuracy: {accuracy_modified:.3f}\")"
      ]
    },
    {
      "cell_type": "code",
      "execution_count": 626,
      "metadata": {},
      "outputs": [
        {
          "name": "stdout",
          "output_type": "stream",
          "text": [
            "True Positive Rates by Gender:\n",
            "0: 0.863\n",
            "1: 0.888\n",
            "Equal Opportunity Disparity: 0.025\n"
          ]
        }
      ],
      "source": [
        "df_eop = X_test.copy()\n",
        "df_eop['y_test'] = y_test\n",
        "df_eop['y_pred'] = df_predictions['y_pred']\n",
        "\n",
        "tpr_genders = {}\n",
        "\n",
        "for gender in df_eop['Gender'].unique():\n",
        "    mask = df_eop['Gender'] == gender\n",
        "    y_true_group = df_eop[mask]['y_test']\n",
        "    y_pred_group = df_eop[mask]['y_pred']\n",
        "\n",
        "    tn, fp, fn, tp = confusion_matrix(y_true_group, y_pred_group).ravel()\n",
        "\n",
        "    tpr = tp / (tp + fn) if (tp + fn) > 0 else 0\n",
        "    tpr_genders[gender] = tpr\n",
        "\n",
        "print(\"True Positive Rates by Gender:\")\n",
        "for gender, tpr in tpr_genders.items():\n",
        "    print(f\"{gender}: {tpr:.3f}\")\n",
        "\n",
        "tpr_vals = list(tpr_genders.values())\n",
        "eo_disparity = max(tpr_vals) - min(tpr_vals)\n",
        "\n",
        "print(f\"Equal Opportunity Disparity: {eo_disparity:.3f}\")"
      ]
    },
    {
      "cell_type": "markdown",
      "metadata": {},
      "source": [
        "Here we filter all females predicted to graduate. Then we located the bottom **15%** of all the students based on their admission grade and if they are a female previously predicted as graduate we flip to them dropout so we can identify female students that may need additional support. Here we can see TPR is very similar for both groups but our accuracy drops a fair bit (about 4%). Depending on our goals this would be acceptable like in the case where we need to find students that would have a higher chance of needing additional support."
      ]
    },
    {
      "cell_type": "markdown",
      "metadata": {},
      "source": [
        "## 7. Intervention Discussion"
      ]
    },
    {
      "cell_type": "markdown",
      "metadata": {},
      "source": [
        "As a team we discussed that **in-processing** or **post-processing** techniques may be more appropriate to improve equal opportunity as it seems more reasonable to add more weight to different gender groups or pulling female students that have lower admission grades in order to offer them additional support. We thought that fabricating data and adding synthetic female students into our dataset doesn't seem right even though it offered us the highest accuracy between the different processing methods."
      ]
    },
    {
      "cell_type": "markdown",
      "metadata": {},
      "source": [
        "As we can see, all of our processing techniques caused us to have lower accuracy in determining graduate or dropout students but this is to be expected. The lowest drop in accuracy was our post-processing method which gave us an accuracy of 80% which was a 4% drop in accuracy compared to the base model without any fairness enforcement."
      ]
    },
    {
      "cell_type": "markdown",
      "metadata": {},
      "source": [
        "## Other Research"
      ]
    },
    {
      "cell_type": "markdown",
      "metadata": {},
      "source": [
        "## 8. Context: *A Convex Framework for Fair Regression*"
      ]
    },
    {
      "cell_type": "markdown",
      "metadata": {},
      "source": [
        "**A Convex Framework for Fair Regression**\n",
        "\n",
        "Main Topic Points\n",
        "- Fairness Regularizers for Regression\n",
        "    - Introduction to a fairness regularizer to compute the *Pareto Curve* which allows those to analyze the trade-off between the fairness and performance of a model to make informed decisions based on the users goals\n",
        "\n",
        "- **\"Price of Fairness\" (PoF)**\n",
        "    - Numerical quantifying unit to show how much a model's accuracy is reduced when using fairness constraints\n",
        "\n",
        "- Comparing different Fairness implementations\n",
        "    - They compare fairness for **different groups** of people as well as tracking **individual fairness** or looking at different individuals with similar outcomes"
      ]
    },
    {
      "cell_type": "markdown",
      "metadata": {},
      "source": [
        "The paper talks about different fairness implementations and their individual constraints. It also gives us a way to **measure the effect of fairness implementations on the model's accuracy** so users can choose which methodology to follow when introducing fairness into their models based on their goals. They also talk about how fairness trade offs are **\"highly domain-specific\"** reinforcing the importance of using metrics like PoF to determine how fairness should be used in our predictors."
      ]
    },
    {
      "cell_type": "markdown",
      "metadata": {},
      "source": [
        "## 9. Code: Fairness Regularizer and PoF Implementation"
      ]
    },
    {
      "cell_type": "code",
      "execution_count": null,
      "metadata": {},
      "outputs": [
        {
          "name": "stdout",
          "output_type": "stream",
          "text": [
            "Accuracy: 0.839\n"
          ]
        }
      ],
      "source": [
        "df = pd.read_csv('data.csv', delimiter=';')\n",
        "df = df[df['Target'] != 'Enrolled']\n",
        "columns_to_keep = [\n",
        "    'Gender',\n",
        "    'Target',\n",
        "    'Marital status',\n",
        "    'Application mode',\n",
        "    'Previous qualification',\n",
        "    'Previous qualification (grade)',\n",
        "    \"Mother's qualification\",\n",
        "    \"Father's qualification\",\n",
        "    'Admission grade',\n",
        "    'Scholarship holder',\n",
        "    'Age at enrollment',\n",
        "    'Curricular units 1st sem (grade)',\n",
        "    'Curricular units 2nd sem (grade)',\n",
        "    'Tuition fees up to date',\n",
        "    'International'\n",
        "]\n",
        "\n",
        "df = df[columns_to_keep]\n",
        "\n",
        "label = 'Target'\n",
        "sensitive_attr = 'Gender'\n",
        "\n",
        "le_target = LabelEncoder()\n",
        "\n",
        "df['Target_encoded'] = le_target.fit_transform(df['Target'])\n",
        "df.drop('Target', axis=1, inplace=True)\n",
        "\n",
        "X = df.drop('Target_encoded', axis=1)\n",
        "y = df['Target_encoded']\n",
        "\n",
        "X_train, X_test, y_train, y_test = train_test_split(X, y, test_size=0.3, random_state=42)\n",
        "\n",
        "model = LogisticRegression(max_iter=2000)\n",
        "model.fit(X_train, y_train)\n",
        "y_pred = model.predict(X_test)\n",
        "\n",
        "accuracy = model.score(X_test, y_test)\n",
        "print(f\"Accuracy: {accuracy:.3f}\")"
      ]
    },
    {
      "cell_type": "code",
      "execution_count": null,
      "metadata": {},
      "outputs": [],
      "source": [
        "from sklearn.base import BaseEstimator, ClassifierMixin\n",
        "\n",
        "class FairLogisticRegression(BaseEstimator, ClassifierMixin):\n",
        "    def __init__(self, fairness_weight=0.0, max_iter=2000):\n",
        "        self.fairness_weight = fairness_weight\n",
        "        self.model = LogisticRegression(max_iter=max_iter)\n",
        "\n",
        "    def fit(self, X, y):\n",
        "        self.model.fit(X, y)\n",
        "        return self\n",
        "\n",
        "    def predict(self, X):\n",
        "        return self.model.predict(X)\n",
        "\n",
        "    def fairness_loss(self, X, y):\n",
        "        y_pred = self.predict(X)\n",
        "        df_eval = X.copy()\n",
        "        df_eval['y_true'] = y\n",
        "        df_eval['y_pred'] = y_pred\n",
        "\n",
        "        tpr_gender = {}\n",
        "        for gender in df_eval['Gender'].unique():\n",
        "            mask = df_eval['Gender'] == gender\n",
        "            y_true_group = df_eval[mask]['y_true']\n",
        "            y_pred_group = df_eval[mask]['y_pred']\n",
        "            tn, fp, fn, tp = confusion_matrix(y_true_group, y_pred_group).ravel()\n",
        "            tpr = tp / (tp + fn) if (tp + fn) > 0 else 0\n",
        "            tpr_gender[gender] = tpr\n",
        "\n",
        "\n",
        "        tpr_values = list(tpr_gender.values())\n",
        "        tpr_disparity = max(tpr_values) - min(tpr_values)\n",
        "\n",
        "        return self.fairness_weight * tpr_disparity\n",
        "\n",
        "    def score(self, X, y):\n",
        "        base_accuracy = self.model.score(X, y)\n",
        "        fairness_penalty = self.fairness_loss(X, y)\n",
        "        return base_accuracy - fairness_penalty"
      ]
    },
    {
      "cell_type": "code",
      "execution_count": 643,
      "metadata": {},
      "outputs": [
        {
          "name": "stdout",
          "output_type": "stream",
          "text": [
            "Fairness Weight: 0.0 | Accuracy: 0.839 | TPR Disparity: 0.000\n",
            "Fairness Weight: 0.3684210526315789 | Accuracy: 0.800 | TPR Disparity: 0.039\n",
            "Fairness Weight: 0.7368421052631579 | Accuracy: 0.761 | TPR Disparity: 0.078\n",
            "Fairness Weight: 1.1052631578947367 | Accuracy: 0.722 | TPR Disparity: 0.117\n",
            "Fairness Weight: 1.4736842105263157 | Accuracy: 0.683 | TPR Disparity: 0.156\n",
            "Fairness Weight: 1.8421052631578947 | Accuracy: 0.644 | TPR Disparity: 0.195\n",
            "Fairness Weight: 2.2105263157894735 | Accuracy: 0.605 | TPR Disparity: 0.234\n",
            "Fairness Weight: 2.5789473684210527 | Accuracy: 0.566 | TPR Disparity: 0.274\n",
            "Fairness Weight: 2.9473684210526314 | Accuracy: 0.527 | TPR Disparity: 0.313\n",
            "Fairness Weight: 3.31578947368421 | Accuracy: 0.488 | TPR Disparity: 0.352\n",
            "Fairness Weight: 3.6842105263157894 | Accuracy: 0.449 | TPR Disparity: 0.391\n",
            "Fairness Weight: 4.052631578947368 | Accuracy: 0.409 | TPR Disparity: 0.430\n",
            "Fairness Weight: 4.421052631578947 | Accuracy: 0.370 | TPR Disparity: 0.469\n",
            "Fairness Weight: 4.789473684210526 | Accuracy: 0.331 | TPR Disparity: 0.508\n",
            "Fairness Weight: 5.157894736842105 | Accuracy: 0.292 | TPR Disparity: 0.547\n",
            "Fairness Weight: 5.526315789473684 | Accuracy: 0.253 | TPR Disparity: 0.586\n",
            "Fairness Weight: 5.894736842105263 | Accuracy: 0.214 | TPR Disparity: 0.625\n",
            "Fairness Weight: 6.263157894736842 | Accuracy: 0.175 | TPR Disparity: 0.664\n",
            "Fairness Weight: 6.63157894736842 | Accuracy: 0.136 | TPR Disparity: 0.703\n",
            "Fairness Weight: 7.0 | Accuracy: 0.097 | TPR Disparity: 0.742\n"
          ]
        }
      ],
      "source": [
        "fairness_weights = np.linspace(0, 7, num=20)\n",
        "accuracy_results = []\n",
        "fairness_results = []\n",
        "\n",
        "for weight in fairness_weights:\n",
        "    fair_model = FairLogisticRegression(fairness_weight=weight)\n",
        "    fair_model.fit(X_train, y_train)\n",
        "    accuracy = fair_model.score(X_test, y_test)\n",
        "    fairness_penalty = fair_model.fairness_loss(X_test, y_test)\n",
        "\n",
        "    accuracy_results.append(accuracy)\n",
        "    fairness_results.append(fairness_penalty)\n",
        "\n",
        "    print(f\"Fairness Weight: {weight} | Accuracy: {accuracy:.3f} | TPR Disparity: {fairness_penalty:.3f}\")"
      ]
    },
    {
      "cell_type": "code",
      "execution_count": null,
      "metadata": {},
      "outputs": [
        {
          "name": "stdout",
          "output_type": "stream",
          "text": [
            "\n",
            "Price of Fairness (PoF) Analysis:\n",
            "Fairness Weight: 0.0 | PoF: 1.000\n",
            "Fairness Weight: 0.3684210526315789 | PoF: 0.953\n",
            "Fairness Weight: 0.7368421052631579 | PoF: 0.907\n",
            "Fairness Weight: 1.1052631578947367 | PoF: 0.860\n",
            "Fairness Weight: 1.4736842105263157 | PoF: 0.814\n",
            "Fairness Weight: 1.8421052631578947 | PoF: 0.767\n",
            "Fairness Weight: 2.2105263157894735 | PoF: 0.721\n",
            "Fairness Weight: 2.5789473684210527 | PoF: 0.674\n",
            "Fairness Weight: 2.9473684210526314 | PoF: 0.628\n",
            "Fairness Weight: 3.31578947368421 | PoF: 0.581\n",
            "Fairness Weight: 3.6842105263157894 | PoF: 0.534\n",
            "Fairness Weight: 4.052631578947368 | PoF: 0.488\n",
            "Fairness Weight: 4.421052631578947 | PoF: 0.441\n",
            "Fairness Weight: 4.789473684210526 | PoF: 0.395\n",
            "Fairness Weight: 5.157894736842105 | PoF: 0.348\n",
            "Fairness Weight: 5.526315789473684 | PoF: 0.302\n",
            "Fairness Weight: 5.894736842105263 | PoF: 0.255\n",
            "Fairness Weight: 6.263157894736842 | PoF: 0.209\n",
            "Fairness Weight: 6.63157894736842 | PoF: 0.162\n",
            "Fairness Weight: 7.0 | PoF: 0.115\n"
          ]
        }
      ],
      "source": [
        "baseline_accuracy = accuracy_results[0]\n",
        "pof_results = [acc / baseline_accuracy for acc in accuracy_results]\n",
        "\n",
        "print(\"\\nPrice of Fairness (PoF) Analysis:\")\n",
        "for weight, pof in zip(fairness_weights, pof_results):\n",
        "    print(f\"Fairness Weight: {weight} | PoF: {pof:.3f}\")"
      ]
    },
    {
      "cell_type": "code",
      "execution_count": 647,
      "metadata": {},
      "outputs": [
        {
          "data": {
            "image/png": "[encoded data removed]",
            "text/plain": [
              "<Figure size 800x500 with 1 Axes>"
            ]
          },
          "metadata": {},
          "output_type": "display_data"
        },
        {
          "data": {
            "image/png": "[encoded data removed]",
            "text/plain": [
              "<Figure size 800x500 with 1 Axes>"
            ]
          },
          "metadata": {},
          "output_type": "display_data"
        }
      ],
      "source": [
        "import matplotlib.pyplot as plt\n",
        "\n",
        "plt.figure(figsize=(8, 5))\n",
        "plt.plot(fairness_weights, accuracy_results, marker='o', label='Accuracy')\n",
        "plt.plot(fairness_weights, fairness_results, marker='s', label='TPR Disparity (Fairness Penalty)', color='red')\n",
        "plt.xlabel(\"Fairness Weight (λ)\")\n",
        "plt.ylabel(\"Metric Value\")\n",
        "plt.title(\"Fairness-Accuracy Tradeoff\")\n",
        "plt.legend()\n",
        "plt.grid()\n",
        "plt.show()\n",
        "\n",
        "plt.figure(figsize=(8, 5))\n",
        "plt.plot(fairness_weights, pof_results, marker='o', label='Price of Fairness')\n",
        "plt.xlabel(\"Fairness Weight (λ)\")\n",
        "plt.ylabel(\"PoF\")\n",
        "plt.title(\"Price of Fairness (PoF) Curve\")\n",
        "plt.legend()\n",
        "plt.grid()\n",
        "plt.show()"
      ]
    },
    {
      "cell_type": "markdown",
      "metadata": {},
      "source": [
        "## 10. Discussion: Research Paper Implementations"
      ]
    },
    {
      "cell_type": "markdown",
      "metadata": {},
      "source": [
        "In the graphs above we saw that fairness weight and the price of fairness was linear which means as it got more and more fair accuracy also dropped so it no matter what the fairness weight was the accuracy dropped. We didn't really learn any new information from this as the fairness weights did not help us at all as it decreased our accuracy a lot while not getting us much closer group tpr values. Although the PoF and Fairness / Accuracy plots were very nice visually, we found it more efficient to implement our own fairness metrics."
      ]
    }
  ],
  "metadata": {
    "colab": {
      "provenance": []
    },
    "kernelspec": {
      "display_name": "Python 3",
      "name": "python3"
    },
    "language_info": {
      "codemirror_mode": {
        "name": "ipython",
        "version": 3
      },
      "file_extension": ".py",
      "mimetype": "text/x-python",
      "name": "python",
      "nbconvert_exporter": "python",
      "pygments_lexer": "ipython3",
      "version": "3.12.4"
    }
  },
  "nbformat": 4,
  "nbformat_minor": 0
}
